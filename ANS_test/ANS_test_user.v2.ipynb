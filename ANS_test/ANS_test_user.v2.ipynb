{
 "cells": [
  {
   "cell_type": "markdown",
   "id": "fcc5ef67-b8d1-4649-af38-f5334a45ce4e",
   "metadata": {},
   "source": [
    "## Welcome to ANS_test!\n",
    "Select **Run** > **Run All Cells** from the menu to run the test."
   ]
  },
  {
   "cell_type": "code",
   "execution_count": 2,
   "id": "b889d795-85c5-4fae-a625-5651be2dd320",
   "metadata": {},
   "outputs": [
    {
     "ename": "ModuleNotFoundError",
     "evalue": "No module named 'ANS_test'",
     "output_type": "error",
     "traceback": [
      "\u001b[0;31m---------------------------------------------------------------------------\u001b[0m",
      "\u001b[0;31mModuleNotFoundError\u001b[0m                       Traceback (most recent call last)",
      "Cell \u001b[0;32mIn[2], line 1\u001b[0m\n\u001b[0;32m----> 1\u001b[0m \u001b[38;5;28;01mfrom\u001b[39;00m \u001b[38;5;21;01mANS_test\u001b[39;00m\u001b[38;5;21;01m.\u001b[39;00m\u001b[38;5;21;01mv2_resources\u001b[39;00m \u001b[38;5;28;01mimport\u001b[39;00m \u001b[38;5;241m*\u001b[39m\n\u001b[1;32m      3\u001b[0m do_the_test()\n",
      "\u001b[0;31mModuleNotFoundError\u001b[0m: No module named 'ANS_test'"
     ]
    }
   ],
   "source": [
    "from ANS_test.v2_resources import *\n",
    "\n",
    "do_the_test()"
   ]
  },
  {
   "cell_type": "code",
   "execution_count": null,
   "id": "ae20899f-7fdd-4d45-97b2-786c80a7e238",
   "metadata": {},
   "outputs": [],
   "source": []
  }
 ],
 "metadata": {
  "kernelspec": {
   "display_name": "Python 3 (ipykernel)",
   "language": "python",
   "name": "python3"
  },
  "language_info": {
   "codemirror_mode": {
    "name": "ipython",
    "version": 3
   },
   "file_extension": ".py",
   "mimetype": "text/x-python",
   "name": "python",
   "nbconvert_exporter": "python",
   "pygments_lexer": "ipython3",
   "version": "3.10.10"
  }
 },
 "nbformat": 4,
 "nbformat_minor": 5
}
